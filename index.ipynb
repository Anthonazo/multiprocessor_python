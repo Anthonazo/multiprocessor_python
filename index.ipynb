{
 "cells": [
  {
   "cell_type": "code",
   "execution_count": 1,
   "id": "15224c95",
   "metadata": {},
   "outputs": [
    {
     "name": "stdout",
     "output_type": "stream",
     "text": [
      "Collecting pillow\n",
      "  Downloading pillow-11.2.1-cp312-cp312-win_amd64.whl.metadata (9.1 kB)\n",
      "Downloading pillow-11.2.1-cp312-cp312-win_amd64.whl (2.7 MB)\n",
      "   ---------------------------------------- 0.0/2.7 MB ? eta -:--:--\n",
      "   ---------------------------------------- 0.0/2.7 MB ? eta -:--:--\n",
      "   ------- -------------------------------- 0.5/2.7 MB 2.8 MB/s eta 0:00:01\n",
      "   ------------------------------- -------- 2.1/2.7 MB 5.1 MB/s eta 0:00:01\n",
      "   ---------------------------------------- 2.7/2.7 MB 5.3 MB/s eta 0:00:00\n",
      "Installing collected packages: pillow\n",
      "Successfully installed pillow-11.2.1\n",
      "Note: you may need to restart the kernel to use updated packages.\n"
     ]
    }
   ],
   "source": [
    "%pip install pillow"
   ]
  },
  {
   "cell_type": "code",
   "execution_count": 2,
   "id": "4e2b7bcf",
   "metadata": {},
   "outputs": [
    {
     "name": "stdout",
     "output_type": "stream",
     "text": [
      "Requirement already satisfied: pycuda in c:\\users\\anthony\\desktop\\entornos virtuales python\\env-pycuda\\lib\\site-packages (2025.1)\n",
      "Requirement already satisfied: pytools>=2011.2 in c:\\users\\anthony\\desktop\\entornos virtuales python\\env-pycuda\\lib\\site-packages (from pycuda) (2025.1.2)\n",
      "Requirement already satisfied: platformdirs>=2.2.0 in c:\\users\\anthony\\desktop\\entornos virtuales python\\env-pycuda\\lib\\site-packages (from pycuda) (4.3.7)\n",
      "Requirement already satisfied: mako in c:\\users\\anthony\\desktop\\entornos virtuales python\\env-pycuda\\lib\\site-packages (from pycuda) (1.3.10)\n",
      "Requirement already satisfied: typing-extensions>=4.5 in c:\\users\\anthony\\desktop\\entornos virtuales python\\env-pycuda\\lib\\site-packages (from pytools>=2011.2->pycuda) (4.13.2)\n",
      "Requirement already satisfied: MarkupSafe>=0.9.2 in c:\\users\\anthony\\desktop\\entornos virtuales python\\env-pycuda\\lib\\site-packages (from mako->pycuda) (3.0.2)\n",
      "Note: you may need to restart the kernel to use updated packages.\n"
     ]
    }
   ],
   "source": [
    "%pip install pycuda"
   ]
  },
  {
   "cell_type": "code",
   "execution_count": 3,
   "id": "750b870c",
   "metadata": {},
   "outputs": [
    {
     "name": "stdout",
     "output_type": "stream",
     "text": [
      "Collecting numpy\n",
      "  Using cached numpy-2.2.5-cp312-cp312-win_amd64.whl.metadata (60 kB)\n",
      "Using cached numpy-2.2.5-cp312-cp312-win_amd64.whl (12.6 MB)\n",
      "Installing collected packages: numpy\n",
      "Successfully installed numpy-2.2.5\n",
      "Note: you may need to restart the kernel to use updated packages.\n"
     ]
    }
   ],
   "source": [
    "%pip install numpy\n"
   ]
  },
  {
   "cell_type": "code",
   "execution_count": 6,
   "id": "f9dd19aa",
   "metadata": {},
   "outputs": [
    {
     "name": "stdout",
     "output_type": "stream",
     "text": [
      "Dispositivos CUDA disponibles: 1\n",
      "\n",
      "Información de la tarjeta gráfica 0:\n",
      "  Nombre: NVIDIA GeForce RTX 4050 Laptop GPU\n",
      "  Memoria total (GB): 6.00 GB\n",
      "  Arch: (8, 9)\n",
      "  Multihilo: 20\n",
      "  Núcleos por multiprocesador: 1536\n",
      "  Frecuencia máxima (MHz): 2355.0\n",
      "  Unidad de procesamiento: 1\n"
     ]
    }
   ],
   "source": [
    "import pycuda.driver as cuda\n",
    "import pycuda.autoinit\n",
    "\n",
    "# Obtén el número de GPUs disponibles\n",
    "device_count = cuda.Device.count()\n",
    "print(f\"Dispositivos CUDA disponibles: {device_count}\")\n",
    "\n",
    "# Imprime detalles de cada dispositivo CUDA\n",
    "for i in range(device_count):\n",
    "    device = cuda.Device(i)\n",
    "    print(f\"\\nInformación de la tarjeta gráfica {i}:\")\n",
    "    print(f\"  Nombre: {device.name()}\")\n",
    "    print(f\"  Memoria total (GB): {device.total_memory() / (1024 ** 3):.2f} GB\")\n",
    "    print(f\"  Arch: {device.compute_capability()}\")\n",
    "    print(f\"  Multihilo: {device.get_attribute(cuda.device_attribute.MULTIPROCESSOR_COUNT)}\")\n",
    "    print(f\"  Núcleos por multiprocesador: {device.get_attribute(cuda.device_attribute.MAX_THREADS_PER_MULTIPROCESSOR)}\")\n",
    "    print(f\"  Frecuencia máxima (MHz): {device.get_attribute(cuda.device_attribute.CLOCK_RATE) / 1000}\")\n",
    "    print(f\"  Unidad de procesamiento: {device.get_attribute(cuda.device_attribute.PCI_BUS_ID)}\")\n"
   ]
  },
  {
   "cell_type": "code",
   "execution_count": 3,
   "id": "ee206656",
   "metadata": {},
   "outputs": [
    {
     "ename": "CompileError",
     "evalue": "nvcc compilation of C:\\Users\\Anthony\\AppData\\Local\\Temp\\tmpyvefs01h\\kernel.cu failed\n[command: nvcc --cubin -arch sm_89 -m64 -Ic:\\Users\\Anthony\\Desktop\\Entornos Virtuales Python\\env-Pycuda\\Lib\\site-packages\\pycuda\\cuda kernel.cu]\n[stdout:\nnvcc fatal   : Cannot find compiler 'cl.exe' in PATH\r\n]",
     "output_type": "error",
     "traceback": [
      "\u001b[31m---------------------------------------------------------------------------\u001b[39m",
      "\u001b[31mCompileError\u001b[39m                              Traceback (most recent call last)",
      "\u001b[36mCell\u001b[39m\u001b[36m \u001b[39m\u001b[32mIn[3]\u001b[39m\u001b[32m, line 12\u001b[39m\n\u001b[32m      9\u001b[39m a_gpu = cuda.mem_alloc(a.nbytes)\n\u001b[32m     10\u001b[39m cuda.memcpy_htod(a_gpu, a)\n\u001b[32m---> \u001b[39m\u001b[32m12\u001b[39m mod = \u001b[43mSourceModule\u001b[49m\u001b[43m(\u001b[49m\u001b[33;43m\"\"\"\u001b[39;49m\n\u001b[32m     13\u001b[39m \u001b[33;43m__global__ void doubles_matrix(float *a) \u001b[39;49m\u001b[33;43m{\u001b[39;49m\n\u001b[32m     14\u001b[39m \u001b[33;43m    int idx = threadIdx.x + blockIdx.y*5;\u001b[39;49m\n\u001b[32m     15\u001b[39m \u001b[33;43m    a[idx] *= 2;\u001b[39;49m\n\u001b[32m     16\u001b[39m \u001b[33;43m}\u001b[39;49m\n\u001b[32m     17\u001b[39m \u001b[33;43m\"\"\"\u001b[39;49m\u001b[43m)\u001b[49m\n\u001b[32m     19\u001b[39m func = mod.get_function(\u001b[33m\"\u001b[39m\u001b[33mdoubles_matrix\u001b[39m\u001b[33m\"\u001b[39m)\n\u001b[32m     20\u001b[39m func(a_gpu, block=(\u001b[32m5\u001b[39m, \u001b[32m5\u001b[39m, \u001b[32m1\u001b[39m))\n",
      "\u001b[36mFile \u001b[39m\u001b[32mc:\\Users\\Anthony\\Desktop\\Entornos Virtuales Python\\env-Pycuda\\Lib\\site-packages\\pycuda\\compiler.py:348\u001b[39m, in \u001b[36mSourceModule.__init__\u001b[39m\u001b[34m(self, source, nvcc, options, keep, no_extern_c, arch, code, cache_dir, include_dirs)\u001b[39m\n\u001b[32m    334\u001b[39m \u001b[38;5;28;01mdef\u001b[39;00m\u001b[38;5;250m \u001b[39m\u001b[34m__init__\u001b[39m(\n\u001b[32m    335\u001b[39m     \u001b[38;5;28mself\u001b[39m,\n\u001b[32m    336\u001b[39m     source,\n\u001b[32m   (...)\u001b[39m\u001b[32m    344\u001b[39m     include_dirs=[],\n\u001b[32m    345\u001b[39m ):\n\u001b[32m    346\u001b[39m     \u001b[38;5;28mself\u001b[39m._check_arch(arch)\n\u001b[32m--> \u001b[39m\u001b[32m348\u001b[39m     cubin = \u001b[38;5;28;43mcompile\u001b[39;49m\u001b[43m(\u001b[49m\n\u001b[32m    349\u001b[39m \u001b[43m        \u001b[49m\u001b[43msource\u001b[49m\u001b[43m,\u001b[49m\n\u001b[32m    350\u001b[39m \u001b[43m        \u001b[49m\u001b[43mnvcc\u001b[49m\u001b[43m,\u001b[49m\n\u001b[32m    351\u001b[39m \u001b[43m        \u001b[49m\u001b[43moptions\u001b[49m\u001b[43m,\u001b[49m\n\u001b[32m    352\u001b[39m \u001b[43m        \u001b[49m\u001b[43mkeep\u001b[49m\u001b[43m,\u001b[49m\n\u001b[32m    353\u001b[39m \u001b[43m        \u001b[49m\u001b[43mno_extern_c\u001b[49m\u001b[43m,\u001b[49m\n\u001b[32m    354\u001b[39m \u001b[43m        \u001b[49m\u001b[43march\u001b[49m\u001b[43m,\u001b[49m\n\u001b[32m    355\u001b[39m \u001b[43m        \u001b[49m\u001b[43mcode\u001b[49m\u001b[43m,\u001b[49m\n\u001b[32m    356\u001b[39m \u001b[43m        \u001b[49m\u001b[43mcache_dir\u001b[49m\u001b[43m,\u001b[49m\n\u001b[32m    357\u001b[39m \u001b[43m        \u001b[49m\u001b[43minclude_dirs\u001b[49m\u001b[43m,\u001b[49m\n\u001b[32m    358\u001b[39m \u001b[43m    \u001b[49m\u001b[43m)\u001b[49m\n\u001b[32m    360\u001b[39m     \u001b[38;5;28;01mfrom\u001b[39;00m\u001b[38;5;250m \u001b[39m\u001b[34;01mpycuda\u001b[39;00m\u001b[34;01m.\u001b[39;00m\u001b[34;01mdriver\u001b[39;00m\u001b[38;5;250m \u001b[39m\u001b[38;5;28;01mimport\u001b[39;00m module_from_buffer\n\u001b[32m    362\u001b[39m     \u001b[38;5;28mself\u001b[39m.module = module_from_buffer(cubin)\n",
      "\u001b[36mFile \u001b[39m\u001b[32mc:\\Users\\Anthony\\Desktop\\Entornos Virtuales Python\\env-Pycuda\\Lib\\site-packages\\pycuda\\compiler.py:297\u001b[39m, in \u001b[36mcompile\u001b[39m\u001b[34m(source, nvcc, options, keep, no_extern_c, arch, code, cache_dir, include_dirs, target)\u001b[39m\n\u001b[32m    294\u001b[39m \u001b[38;5;28;01mfor\u001b[39;00m i \u001b[38;5;129;01min\u001b[39;00m include_dirs:\n\u001b[32m    295\u001b[39m     options.append(\u001b[33m\"\u001b[39m\u001b[33m-I\u001b[39m\u001b[33m\"\u001b[39m + i)\n\u001b[32m--> \u001b[39m\u001b[32m297\u001b[39m \u001b[38;5;28;01mreturn\u001b[39;00m \u001b[43mcompile_plain\u001b[49m\u001b[43m(\u001b[49m\u001b[43msource\u001b[49m\u001b[43m,\u001b[49m\u001b[43m \u001b[49m\u001b[43moptions\u001b[49m\u001b[43m,\u001b[49m\u001b[43m \u001b[49m\u001b[43mkeep\u001b[49m\u001b[43m,\u001b[49m\u001b[43m \u001b[49m\u001b[43mnvcc\u001b[49m\u001b[43m,\u001b[49m\u001b[43m \u001b[49m\u001b[43mcache_dir\u001b[49m\u001b[43m,\u001b[49m\u001b[43m \u001b[49m\u001b[43mtarget\u001b[49m\u001b[43m)\u001b[49m\n",
      "\u001b[36mFile \u001b[39m\u001b[32mc:\\Users\\Anthony\\Desktop\\Entornos Virtuales Python\\env-Pycuda\\Lib\\site-packages\\pycuda\\compiler.py:154\u001b[39m, in \u001b[36mcompile_plain\u001b[39m\u001b[34m(source, options, keep, nvcc, cache_dir, target)\u001b[39m\n\u001b[32m    148\u001b[39m         warn(\n\u001b[32m    149\u001b[39m             \u001b[33m\"\u001b[39m\u001b[33mPyCUDA: nvcc exited with status 0, but appears to have \u001b[39m\u001b[33m\"\u001b[39m\n\u001b[32m    150\u001b[39m             \u001b[33m\"\u001b[39m\u001b[33mencountered an error\u001b[39m\u001b[33m\"\u001b[39m\n\u001b[32m    151\u001b[39m         )\n\u001b[32m    152\u001b[39m     \u001b[38;5;28;01mfrom\u001b[39;00m\u001b[38;5;250m \u001b[39m\u001b[34;01mpycuda\u001b[39;00m\u001b[34;01m.\u001b[39;00m\u001b[34;01mdriver\u001b[39;00m\u001b[38;5;250m \u001b[39m\u001b[38;5;28;01mimport\u001b[39;00m CompileError\n\u001b[32m--> \u001b[39m\u001b[32m154\u001b[39m     \u001b[38;5;28;01mraise\u001b[39;00m CompileError(\n\u001b[32m    155\u001b[39m         \u001b[33m\"\u001b[39m\u001b[33mnvcc compilation of \u001b[39m\u001b[38;5;132;01m%s\u001b[39;00m\u001b[33m failed\u001b[39m\u001b[33m\"\u001b[39m % cu_file_path,\n\u001b[32m    156\u001b[39m         cmdline,\n\u001b[32m    157\u001b[39m         stdout=stdout.decode(\u001b[33m\"\u001b[39m\u001b[33mutf-8\u001b[39m\u001b[33m\"\u001b[39m, \u001b[33m\"\u001b[39m\u001b[33mreplace\u001b[39m\u001b[33m\"\u001b[39m),\n\u001b[32m    158\u001b[39m         stderr=stderr.decode(\u001b[33m\"\u001b[39m\u001b[33mutf-8\u001b[39m\u001b[33m\"\u001b[39m, \u001b[33m\"\u001b[39m\u001b[33mreplace\u001b[39m\u001b[33m\"\u001b[39m),\n\u001b[32m    159\u001b[39m     )\n\u001b[32m    161\u001b[39m \u001b[38;5;28;01mif\u001b[39;00m stdout \u001b[38;5;129;01mor\u001b[39;00m stderr:\n\u001b[32m    162\u001b[39m     lcase_err_text = (stdout + stderr).decode(\u001b[33m\"\u001b[39m\u001b[33mutf-8\u001b[39m\u001b[33m\"\u001b[39m, \u001b[33m\"\u001b[39m\u001b[33mreplace\u001b[39m\u001b[33m\"\u001b[39m).lower()\n",
      "\u001b[31mCompileError\u001b[39m: nvcc compilation of C:\\Users\\Anthony\\AppData\\Local\\Temp\\tmpyvefs01h\\kernel.cu failed\n[command: nvcc --cubin -arch sm_89 -m64 -Ic:\\Users\\Anthony\\Desktop\\Entornos Virtuales Python\\env-Pycuda\\Lib\\site-packages\\pycuda\\cuda kernel.cu]\n[stdout:\nnvcc fatal   : Cannot find compiler 'cl.exe' in PATH\r\n]"
     ]
    }
   ],
   "source": [
    "import pycuda.driver as cuda\n",
    "import pycuda.autoinit\n",
    "from pycuda.compiler import SourceModule\n",
    "import numpy\n",
    "\n",
    "a = numpy.random.randn(5, 5)\n",
    "a = a.astype(numpy.float32)\n",
    "\n",
    "a_gpu = cuda.mem_alloc(a.nbytes)\n",
    "cuda.memcpy_htod(a_gpu, a)\n",
    "\n",
    "mod = SourceModule(\"\"\"\n",
    "__global__ void doubles_matrix(float *a) {\n",
    "    int idx = threadIdx.x + blockIdx.y*5;\n",
    "    a[idx] *= 2;\n",
    "}\n",
    "\"\"\")\n",
    "\n",
    "func = mod.get_function(\"doubles_matrix\")\n",
    "func(a_gpu, block=(5, 5, 1))\n",
    "\n",
    "a_doubled = numpy.empty_like(a)\n",
    "cuda.memcpy_dtoh(a_doubled, a_gpu)\n",
    "print(\"Matriz original:\")\n",
    "print(a)\n",
    "print(\"DOUBLE MATRIX AFTER PyCUDA EXECUTION:\")\n",
    "print(a_doubled)"
   ]
  }
 ],
 "metadata": {
  "kernelspec": {
   "display_name": "env-Pycuda",
   "language": "python",
   "name": "python3"
  },
  "language_info": {
   "codemirror_mode": {
    "name": "ipython",
    "version": 3
   },
   "file_extension": ".py",
   "mimetype": "text/x-python",
   "name": "python",
   "nbconvert_exporter": "python",
   "pygments_lexer": "ipython3",
   "version": "3.12.2"
  }
 },
 "nbformat": 4,
 "nbformat_minor": 5
}
